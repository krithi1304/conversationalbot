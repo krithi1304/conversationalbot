{
 "cells": [
  {
   "cell_type": "code",
   "execution_count": null,
   "metadata": {},
   "outputs": [],
   "source": [
    "#https://github.com/gunthercox/chatterbot-corpus"
   ]
  },
  {
   "cell_type": "code",
   "execution_count": 3,
   "metadata": {
    "scrolled": true
   },
   "outputs": [
    {
     "name": "stdout",
     "output_type": "stream",
     "text": [
      "Requirement already satisfied: pipwin in c:\\users\\gtl-ic-010\\anaconda3\\lib\\site-packages (0.5.1)\n",
      "Requirement already satisfied: requests in c:\\users\\gtl-ic-010\\anaconda3\\lib\\site-packages (from pipwin) (2.25.1)\n",
      "Requirement already satisfied: docopt in c:\\users\\gtl-ic-010\\anaconda3\\lib\\site-packages (from pipwin) (0.6.2)\n",
      "Requirement already satisfied: js2py in c:\\users\\gtl-ic-010\\anaconda3\\lib\\site-packages (from pipwin) (0.70)\n",
      "Requirement already satisfied: pyprind in c:\\users\\gtl-ic-010\\anaconda3\\lib\\site-packages (from pipwin) (2.11.2)\n",
      "Requirement already satisfied: beautifulsoup4>=4.9.0 in c:\\users\\gtl-ic-010\\anaconda3\\lib\\site-packages (from pipwin) (4.9.1)\n",
      "Requirement already satisfied: six in c:\\users\\gtl-ic-010\\anaconda3\\lib\\site-packages (from pipwin) (1.15.0)\n",
      "Requirement already satisfied: packaging in c:\\users\\gtl-ic-010\\anaconda3\\lib\\site-packages (from pipwin) (20.9)\n",
      "Requirement already satisfied: pySmartDL>=1.3.1; python_version >= \"3.4\" in c:\\users\\gtl-ic-010\\anaconda3\\lib\\site-packages (from pipwin) (1.3.4)\n",
      "Requirement already satisfied: certifi>=2017.4.17 in c:\\users\\gtl-ic-010\\anaconda3\\lib\\site-packages (from requests->pipwin) (2020.12.5)\n",
      "Requirement already satisfied: chardet<5,>=3.0.2 in c:\\users\\gtl-ic-010\\anaconda3\\lib\\site-packages (from requests->pipwin) (3.0.4)\n",
      "Requirement already satisfied: urllib3<1.27,>=1.21.1 in c:\\users\\gtl-ic-010\\anaconda3\\lib\\site-packages (from requests->pipwin) (1.26.3)\n",
      "Requirement already satisfied: idna<3,>=2.5 in c:\\users\\gtl-ic-010\\anaconda3\\lib\\site-packages (from requests->pipwin) (2.10)\n",
      "Requirement already satisfied: tzlocal>=1.2 in c:\\users\\gtl-ic-010\\anaconda3\\lib\\site-packages (from js2py->pipwin) (2.1)\n",
      "Requirement already satisfied: pyjsparser>=2.5.1 in c:\\users\\gtl-ic-010\\anaconda3\\lib\\site-packages (from js2py->pipwin) (2.7.1)\n",
      "Requirement already satisfied: soupsieve>1.2 in c:\\users\\gtl-ic-010\\anaconda3\\lib\\site-packages (from beautifulsoup4>=4.9.0->pipwin) (2.0.1)\n",
      "Requirement already satisfied: pyparsing>=2.0.2 in c:\\users\\gtl-ic-010\\anaconda3\\lib\\site-packages (from packaging->pipwin) (2.4.7)\n",
      "Requirement already satisfied: pytz in c:\\users\\gtl-ic-010\\anaconda3\\lib\\site-packages (from tzlocal>=1.2->js2py->pipwin) (2021.1)\n"
     ]
    }
   ],
   "source": [
    "#For windows users only\n",
    "# i had issues installing the program on my windows\n",
    "# i resorted to installing pipwin package and everything worked\n",
    "\n",
    "!pip install pipwin\n"
   ]
  },
  {
   "cell_type": "code",
   "execution_count": 5,
   "metadata": {},
   "outputs": [
    {
     "name": "stdout",
     "output_type": "stream",
     "text": [
      "Requirement already satisfied: chatterbot==1.0.4 in c:\\users\\gtl-ic-010\\anaconda3\\lib\\site-packages (1.0.4)\n",
      "Requirement already satisfied: python-dateutil<2.8,>=2.7 in c:\\users\\gtl-ic-010\\anaconda3\\lib\\site-packages (from chatterbot==1.0.4) (2.7.5)\n",
      "Requirement already satisfied: pint>=0.8.1 in c:\\users\\gtl-ic-010\\anaconda3\\lib\\site-packages (from chatterbot==1.0.4) (0.16.1)\n",
      "Processing c:\\users\\gtl-ic-010\\appdata\\local\\pip\\cache\\wheels\\0d\\13\\f8\\47c2f3157957c3693caffa64a94a718cb1357fe186e4d52e48\\sqlalchemy-1.2.19-cp38-cp38-win_amd64.whl\n",
      "Requirement already satisfied: chatterbot-corpus<1.3,>=1.2 in c:\\users\\gtl-ic-010\\anaconda3\\lib\\site-packages (from chatterbot==1.0.4) (1.2.0)\n",
      "Requirement already satisfied: pymongo<4.0,>=3.3 in c:\\users\\gtl-ic-010\\anaconda3\\lib\\site-packages (from chatterbot==1.0.4) (3.11.3)\n",
      "Requirement already satisfied: nltk<4.0,>=3.2 in c:\\users\\gtl-ic-010\\anaconda3\\lib\\site-packages (from chatterbot==1.0.4) (3.5)\n",
      "Requirement already satisfied: mathparse<0.2,>=0.1 in c:\\users\\gtl-ic-010\\anaconda3\\lib\\site-packages (from chatterbot==1.0.4) (0.1.2)\n",
      "Requirement already satisfied: six>=1.5 in c:\\users\\gtl-ic-010\\anaconda3\\lib\\site-packages (from python-dateutil<2.8,>=2.7->chatterbot==1.0.4) (1.15.0)\n",
      "Requirement already satisfied: packaging in c:\\users\\gtl-ic-010\\anaconda3\\lib\\site-packages (from pint>=0.8.1->chatterbot==1.0.4) (20.9)\n",
      "Requirement already satisfied: PyYAML<4.0,>=3.12 in c:\\users\\gtl-ic-010\\anaconda3\\lib\\site-packages (from chatterbot-corpus<1.3,>=1.2->chatterbot==1.0.4) (3.13)\n",
      "Requirement already satisfied: regex in c:\\users\\gtl-ic-010\\anaconda3\\lib\\site-packages (from nltk<4.0,>=3.2->chatterbot==1.0.4) (2020.6.8)\n",
      "Requirement already satisfied: tqdm in c:\\users\\gtl-ic-010\\anaconda3\\lib\\site-packages (from nltk<4.0,>=3.2->chatterbot==1.0.4) (4.56.0)\n",
      "Requirement already satisfied: click in c:\\users\\gtl-ic-010\\anaconda3\\lib\\site-packages (from nltk<4.0,>=3.2->chatterbot==1.0.4) (7.1.2)\n",
      "Requirement already satisfied: joblib in c:\\users\\gtl-ic-010\\anaconda3\\lib\\site-packages (from nltk<4.0,>=3.2->chatterbot==1.0.4) (0.16.0)\n",
      "Requirement already satisfied: pyparsing>=2.0.2 in c:\\users\\gtl-ic-010\\anaconda3\\lib\\site-packages (from packaging->pint>=0.8.1->chatterbot==1.0.4) (2.4.7)\n",
      "Installing collected packages: sqlalchemy\n",
      "  Attempting uninstall: sqlalchemy\n",
      "    Found existing installation: SQLAlchemy 1.3.23\n",
      "    Uninstalling SQLAlchemy-1.3.23:\n",
      "      Successfully uninstalled SQLAlchemy-1.3.23\n",
      "Successfully installed sqlalchemy-1.2.19\n"
     ]
    }
   ],
   "source": [
    "#installing the chatterbot version\n",
    "!pip install chatterbot==1.0.4"
   ]
  },
  {
   "cell_type": "code",
   "execution_count": 6,
   "metadata": {},
   "outputs": [],
   "source": [
    "#helps the user to interact with the operating system\n",
    "import os"
   ]
  },
  {
   "cell_type": "code",
   "execution_count": 7,
   "metadata": {},
   "outputs": [],
   "source": [
    "#os.listdir('R:/AIresource/chatterbot-corpus-master/chatterbot-corpus-master/chatterbot_corpus/data')"
   ]
  },
  {
   "cell_type": "code",
   "execution_count": 8,
   "metadata": {},
   "outputs": [
    {
     "data": {
      "text/plain": [
       "['bengali',\n",
       " 'chinese',\n",
       " 'english',\n",
       " 'french',\n",
       " 'german',\n",
       " 'hebrew',\n",
       " 'hindi',\n",
       " 'indonesian',\n",
       " 'italian',\n",
       " 'japanese',\n",
       " 'korean',\n",
       " 'marathi',\n",
       " 'oriya',\n",
       " 'persian',\n",
       " 'portuguese',\n",
       " 'russian',\n",
       " 'spanish',\n",
       " 'swedish',\n",
       " 'telugu',\n",
       " 'thai',\n",
       " 'traditionalchinese',\n",
       " 'turkish']"
      ]
     },
     "execution_count": 8,
     "metadata": {},
     "output_type": "execute_result"
    }
   ],
   "source": [
    "#loading the data from the directory\n",
    "R:\\AIresource\\BotPal\\chatterbot_corpus\\data\n",
    "os.listdir(r'R:\\AIresource\\BotPal\\chatterbot_corpus\\data')"
   ]
  },
  {
   "cell_type": "code",
   "execution_count": 9,
   "metadata": {},
   "outputs": [
    {
     "data": {
      "text/plain": [
       "['ai.yml',\n",
       " 'botprofile.yml',\n",
       " 'computers.yml',\n",
       " 'conversations.yml',\n",
       " 'emotion.yml',\n",
       " 'food.yml',\n",
       " 'gossip.yml',\n",
       " 'greetings.yml',\n",
       " 'health.yml',\n",
       " 'history.yml',\n",
       " 'humor.yml',\n",
       " 'literature.yml',\n",
       " 'money.yml',\n",
       " 'movies.yml',\n",
       " 'politics.yml',\n",
       " 'psychology.yml',\n",
       " 'science.yml',\n",
       " 'sports.yml',\n",
       " 'trivia.yml']"
      ]
     },
     "execution_count": 9,
     "metadata": {},
     "output_type": "execute_result"
    }
   ],
   "source": [
    "#loading only the english data\n",
    "os.listdir(r'R:\\AIresource\\BotPal\\chatterbot_corpus\\data\\english')"
   ]
  },
  {
   "cell_type": "code",
   "execution_count": 10,
   "metadata": {},
   "outputs": [],
   "source": [
    "\n",
    "from chatterbot import ChatBot\n",
    "'''from chatterbot.trainers import ListTrainer'''\n",
    "from chatterbot.trainers import ChatterBotCorpusTrainer     \n",
    "import os"
   ]
  },
  {
   "cell_type": "code",
   "execution_count": 14,
   "metadata": {},
   "outputs": [
    {
     "name": "stdout",
     "output_type": "stream",
     "text": [
      "Requirement already up-to-date: sqlalchemy in c:\\users\\gtl-ic-010\\anaconda3\\lib\\site-packages (1.3.23)\n"
     ]
    }
   ],
   "source": [
    "!pip install sqlalchemy --upgrade"
   ]
  },
  {
   "cell_type": "code",
   "execution_count": 15,
   "metadata": {},
   "outputs": [
    {
     "name": "stderr",
     "output_type": "stream",
     "text": [
      "[nltk_data] Downloading package averaged_perceptron_tagger to\n",
      "[nltk_data]     C:\\Users\\GTL-IC-010\\AppData\\Roaming\\nltk_data...\n",
      "[nltk_data]   Package averaged_perceptron_tagger is already up-to-\n",
      "[nltk_data]       date!\n",
      "[nltk_data] Downloading package punkt to C:\\Users\\GTL-\n",
      "[nltk_data]     IC-010\\AppData\\Roaming\\nltk_data...\n",
      "[nltk_data]   Package punkt is already up-to-date!\n",
      "[nltk_data] Downloading package stopwords to C:\\Users\\GTL-\n",
      "[nltk_data]     IC-010\\AppData\\Roaming\\nltk_data...\n",
      "[nltk_data]   Package stopwords is already up-to-date!\n"
     ]
    }
   ],
   "source": [
    "#needs internet to download some packages\n",
    "#creating a variable and giving our chatbot a  name( BotPal)\n",
    "botty = ChatBot('BotPal')\n",
    "    "
   ]
  },
  {
   "cell_type": "code",
   "execution_count": 16,
   "metadata": {},
   "outputs": [],
   "source": [
    "# Creating a new trainer for the chatbot\n",
    "trainer = ChatterBotCorpusTrainer(botty)"
   ]
  },
  {
   "cell_type": "code",
   "execution_count": 12,
   "metadata": {},
   "outputs": [],
   "source": [
    "#trainer = ListTrainer(botty)\n",
    "\n",
    "#trainer = ChatterBotCorpusTrainer(ChatBot)"
   ]
  },
  {
   "cell_type": "code",
   "execution_count": 13,
   "metadata": {},
   "outputs": [],
   "source": [
    "# trainer.train(r'R:\\\\AIresource\\\\chatterbot-corpus-master\\\\chatterbot-corpus-master\\\\chatterbot_corpus\\\\data\\\\english')\n",
    "\n",
    "# Train the chatbot based on the english corpus\n",
    "#for i in os.listdir(r'R:\\\\AIresource\\\\chatterbot-corpus-master\\\\chatterbot-corpus-master\\\\chatterbot_corpus\\\\data\\\\english'+i):\n",
    "    \n",
    "         #data = open(r'R:\\\\AIresource\\\\chatterbot-corpus-master\\\\chatterbot-corpus-master\\\\chatterbot_corpus\\\\data\\\\english'+i).readline()\n",
    "       #  trainer.train(i)\n",
    "         #trainer.train(r'R:\\\\AIresource\\\\chatterbot-corpus-master\\\\chatterbot-corpus-master\\\\chatterbot_corpus\\\\data\\\\english')\n",
    "#trainer.train(\"chatterbot.corpus.english\")"
   ]
  },
  {
   "cell_type": "code",
   "execution_count": 14,
   "metadata": {},
   "outputs": [
    {
     "data": {
      "text/plain": [
       "\"for i in os.listdir(r'R:\\\\AIresource\\\\chatterbot-corpus-master\\\\chatterbot-corpus-master\\\\chatterbot_corpus\\\\data\\\\english'):\\n        #data = open(r'R:\\\\AIresource\\\\chatterbot-corpus-master\\\\chatterbot-corpus-master\\\\chatterbot_corpus\\\\data\\\\english'+i).readline()\\n        # bot.train(data)\\n        trainer.train(r'R:\\\\AIresource\\\\chatterbot-corpus-master\\\\chatterbot-corpus-master\\\\chatterbot_corpus\\\\data\\\\english'+i).readline()\""
      ]
     },
     "execution_count": 14,
     "metadata": {},
     "output_type": "execute_result"
    }
   ],
   "source": [
    "'''for i in os.listdir(r'R:\\\\AIresource\\\\chatterbot-corpus-master\\\\chatterbot-corpus-master\\\\chatterbot_corpus\\\\data\\\\english'):\n",
    "        #data = open(r'R:\\\\AIresource\\\\chatterbot-corpus-master\\\\chatterbot-corpus-master\\\\chatterbot_corpus\\\\data\\\\english'+i).readline()\n",
    "        # bot.train(data)\n",
    "        trainer.train(r'R:\\\\AIresource\\\\chatterbot-corpus-master\\\\chatterbot-corpus-master\\\\chatterbot_corpus\\\\data\\\\english'+i).readline()'''\n",
    "   "
   ]
  },
  {
   "cell_type": "code",
   "execution_count": 17,
   "metadata": {},
   "outputs": [
    {
     "data": {
      "text/plain": [
       "<Statement text:Artificial Intelligence is the branch of engineering and science devoted to constructing machines that think.>"
      ]
     },
     "execution_count": 17,
     "metadata": {},
     "output_type": "execute_result"
    }
   ],
   "source": [
    "# Get a response to an input statement( responds to users with the prdefined information)\n",
    "botty.get_response('what is AI')"
   ]
  },
  {
   "cell_type": "code",
   "execution_count": 18,
   "metadata": {},
   "outputs": [
    {
     "name": "stdout",
     "output_type": "stream",
     "text": [
      "user ko\n",
      "bot reply : no\n",
      "user yo\n",
      "bot reply : I am just an artificial intelligence.\n",
      "user saah\n",
      "bot reply : What is your favorite number\n",
      "user 10\n",
      "bot reply : Tell me a joke\n",
      "user none\n",
      "bot reply : chemistry\n",
      "user math\n",
      "bot reply : I PLAY SOCCER\n",
      "user hockey\n",
      "bot reply : how far is the sun\n",
      "user 789065\n",
      "bot reply : Do you feel?\n",
      "user yh\n",
      "bot reply : What do you get when you cross finals and a chicken? Eggs-ams.\n",
      "user hello\n",
      "bot reply : Hi\n",
      "user your name\n",
      "bot reply : When will you die\n",
      "user whats food\n",
      "bot reply : who wrote the idiot\n",
      "user bye\n"
     ]
    }
   ],
   "source": [
    "#while the conditions are through, continue\n",
    "while True:\n",
    "    ip =input('user ')      # create a variable to accept input from user\n",
    "    if ip=='bye' or ip =='Bye':       # test if bye or Bye is the value(input from user)\n",
    "        break                          #  if response from user is bye or Bye, then stop the chat   else\n",
    "    if ip!='bye' or ip!='Bye':              #test if bye or Bye isnot the value(input from user)\n",
    "        reply = botty.get_response(ip)       #create a variable to get response from user\n",
    "        print('bot reply :', reply)             #prints bot reply and the response from the bot"
   ]
  },
  {
   "cell_type": "code",
   "execution_count": null,
   "metadata": {},
   "outputs": [],
   "source": []
  },
  {
   "cell_type": "code",
   "execution_count": null,
   "metadata": {},
   "outputs": [],
   "source": []
  },
  {
   "cell_type": "code",
   "execution_count": null,
   "metadata": {},
   "outputs": [],
   "source": []
  }
 ],
 "metadata": {
  "kernelspec": {
   "display_name": "Python 3",
   "language": "python",
   "name": "python3"
  },
  "language_info": {
   "codemirror_mode": {
    "name": "ipython",
    "version": 3
   },
   "file_extension": ".py",
   "mimetype": "text/x-python",
   "name": "python",
   "nbconvert_exporter": "python",
   "pygments_lexer": "ipython3",
   "version": "3.8.3"
  }
 },
 "nbformat": 4,
 "nbformat_minor": 4
}
